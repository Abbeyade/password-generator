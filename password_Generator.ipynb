{
 "cells": [
  {
   "cell_type": "code",
   "execution_count": 10,
   "id": "b477d063",
   "metadata": {
    "scrolled": true
   },
   "outputs": [
    {
     "name": "stdout",
     "output_type": "stream",
     "text": [
      "Welcome to passByAbbey pasword generator\n",
      "How many letters would you like your password?\n",
      "4\n",
      "How many symbols would you like your password?\n",
      "2\n",
      "How many numbers would you like your password?\n",
      "2\n",
      "Q8$Dk&i2\n"
     ]
    }
   ],
   "source": [
    "import random\n",
    "# Alphabet for selection\n",
    "letters = ['a','b','c','d','e','f','g','h','i','j','k','l','m','n','o','p','q','r','s','t','u','v','w','x','y','z',\n",
    "           'A','B','C','D','E','F','G','H','I','J','K','L','M','N','O','P','Q','R','S','T','U','V','W','X','Y','Z']\n",
    "# Numbers for selection\n",
    "numbers = ['0','1','2','3','4','5','6','7','8','9']\n",
    "# Symbols for selection\n",
    "symbols = ['!','#','$','%','^','&','(',')','*','+']\n",
    "\n",
    "#\n",
    "print ('Welcome to passByAbbey pasword generator')\n",
    "nr_letters = int(input('How many letters would you like your password?\\n'))\n",
    "nr_symbols = int(input(f'How many symbols would you like your password?\\n'))\n",
    "nr_numbers = int(input(f'How many numbers would you like your password?\\n'))\n",
    "\n",
    "password_list =[]\n",
    "for i in range(1,nr_letters +1):\n",
    "    password_list += random.choice(letters)\n",
    "for i in range(1,nr_symbols +1):\n",
    "    password_list += random.choice(symbols)\n",
    "for i in range(1,nr_numbers +1):\n",
    "    password_list += random.choice(numbers)   \n",
    "random.shuffle(password_list)\n",
    "password = ''\n",
    "for i in password_list:\n",
    "    password += i\n",
    "\n",
    "print(password)    \n",
    "    "
   ]
  },
  {
   "cell_type": "code",
   "execution_count": null,
   "id": "3aff2f01",
   "metadata": {},
   "outputs": [],
   "source": []
  },
  {
   "cell_type": "code",
   "execution_count": null,
   "id": "481b1466",
   "metadata": {},
   "outputs": [],
   "source": []
  }
 ],
 "metadata": {
  "kernelspec": {
   "display_name": "Python 3 (ipykernel)",
   "language": "python",
   "name": "python3"
  },
  "language_info": {
   "codemirror_mode": {
    "name": "ipython",
    "version": 3
   },
   "file_extension": ".py",
   "mimetype": "text/x-python",
   "name": "python",
   "nbconvert_exporter": "python",
   "pygments_lexer": "ipython3",
   "version": "3.9.7"
  }
 },
 "nbformat": 4,
 "nbformat_minor": 5
}
